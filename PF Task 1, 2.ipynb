{
 "cells": [
  {
   "cell_type": "code",
   "execution_count": 1,
   "id": "c47a360f",
   "metadata": {},
   "outputs": [
    {
     "name": "stdout",
     "output_type": "stream",
     "text": [
      "What is the total number of studends in the class120\n",
      "No of students with mathematics45\n",
      "No of students with biology55\n",
      "total_students_without_math_and_bio :  20\n",
      "total_students_with_math_and_bio : 100\n"
     ]
    }
   ],
   "source": [
    "# Problem statement 1: Required python function for a students class which takes \n",
    "# input from the user for \n",
    "\n",
    "# Total number of students in the class\n",
    "\n",
    "# Number of students with mathematics \n",
    "\n",
    "# Number of Students with Bio\n",
    "\n",
    "# Calculate the number of students without Math and Bio\n",
    "\n",
    "# Calculate the number of students with Math and Bio...\n",
    "\n",
    "t_s = int(input(\"What is the total number of studends in the class\"))\n",
    "mathematics_studenst = int(input(\"No of students with mathematics\"))\n",
    "bio_students= int(input(\"No of students with biology\"))\n",
    "\n",
    "\n",
    "\n",
    "total_students_without_math_and_bio = t_s - (mathematics_studenst + bio_students)\n",
    "print(\"total_students_without_math_and_bio : \" ,total_students_without_math_and_bio  )\n",
    "\n",
    "total_students_with_math_and_bio = mathematics_studenst+bio_students\n",
    "print(\"total_students_with_math_and_bio :\",total_students_with_math_and_bio)"
   ]
  },
  {
   "cell_type": "code",
   "execution_count": 2,
   "id": "621dc19a",
   "metadata": {},
   "outputs": [
    {
     "name": "stdout",
     "output_type": "stream",
     "text": [
      "enter numbers 12\n",
      "12 not prime\n",
      "0\n"
     ]
    }
   ],
   "source": [
    "# Problem statement 2\n",
    "\n",
    "# Need a method in python which find out the given number is prime number or not.\n",
    "\n",
    "# Case not prime number return the value of -1\n",
    "\n",
    "# Case prime number N calculate the sum of all number from 0 till the N\n",
    "\n",
    "n1 = [int(x) for x in input(\"enter numbers \").split()]\n",
    "sum = 0\n",
    "for n in n1:\n",
    "    if n > 1:\n",
    "        for i in range(2,n):\n",
    "            \n",
    "            if n % i == 0:\n",
    "                print(n, \"not prime\")\n",
    "                break\n",
    "        else:\n",
    "                print(n, \"prime number\")\n",
    "                sum = sum + n\n",
    "    \n",
    "    else:\n",
    "        print(n, \"not prime\")\n",
    "        \n",
    "print(sum)"
   ]
  },
  {
   "cell_type": "code",
   "execution_count": null,
   "id": "665581d9",
   "metadata": {},
   "outputs": [],
   "source": []
  }
 ],
 "metadata": {
  "kernelspec": {
   "display_name": "Python 3 (ipykernel)",
   "language": "python",
   "name": "python3"
  },
  "language_info": {
   "codemirror_mode": {
    "name": "ipython",
    "version": 3
   },
   "file_extension": ".py",
   "mimetype": "text/x-python",
   "name": "python",
   "nbconvert_exporter": "python",
   "pygments_lexer": "ipython3",
   "version": "3.9.12"
  }
 },
 "nbformat": 4,
 "nbformat_minor": 5
}
